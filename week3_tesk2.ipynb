{
 "cells": [
  {
   "cell_type": "code",
   "execution_count": null,
   "metadata": {},
   "outputs": [],
   "source": [
    "str1=str(input())\n",
    "str2=str(input())\n",
    "str3=str(input())\n",
    "str4=str(input())\n",
    "x={}\n",
    "for i in range(len(str1)):\n",
    "    x[str1[i]]=str2[i]\n",
    "for j in str3:\n",
    "    print(x.get(j),end='')\n",
    "print()\n",
    "for t in str4:\n",
    "    for key,value in x.items():\n",
    "        if t==value:\n",
    "            print(key,end='')"
   ]
  }
 ],
 "metadata": {
  "kernelspec": {
   "display_name": "Python 3",
   "language": "python",
   "name": "python3"
  },
  "language_info": {
   "codemirror_mode": {
    "name": "ipython",
    "version": 3
   },
   "file_extension": ".py",
   "mimetype": "text/x-python",
   "name": "python",
   "nbconvert_exporter": "python",
   "pygments_lexer": "ipython3",
   "version": "3.7.3"
  }
 },
 "nbformat": 4,
 "nbformat_minor": 2
}
