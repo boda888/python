{
 "cells": [
  {
   "cell_type": "code",
   "execution_count": null,
   "metadata": {},
   "outputs": [],
   "source": [
    "sl={'север': 0, 'юг': 0, 'восток': 0, 'запад': 0}\n",
    "n=int(input())\n",
    "b=[input().split() for i in range(n)]\n",
    "for j in b:\n",
    "    for x in range(len(j)):\n",
    "        if j[x].isdigit()!=True:\n",
    "            for key,value in sl.items():\n",
    "                if key==j[x]:\n",
    "                    sl[key]=value+int(j[x+1-len(j)])\n",
    "print(sl['восток']-sl['запад'],sl['север']-sl['юг'])"
   ]
  }
 ],
 "metadata": {
  "kernelspec": {
   "display_name": "Python 3",
   "language": "python",
   "name": "python3"
  },
  "language_info": {
   "codemirror_mode": {
    "name": "ipython",
    "version": 3
   },
   "file_extension": ".py",
   "mimetype": "text/x-python",
   "name": "python",
   "nbconvert_exporter": "python",
   "pygments_lexer": "ipython3",
   "version": "3.7.3"
  }
 },
 "nbformat": 4,
 "nbformat_minor": 2
}
