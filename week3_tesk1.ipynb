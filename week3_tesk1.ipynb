{
 "cells": [
  {
   "cell_type": "code",
   "execution_count": null,
   "metadata": {},
   "outputs": [],
   "source": [
    "x=[]\n",
    "s={}\n",
    "q=0\n",
    "w=0\n",
    "e=0\n",
    "sum=0\n",
    "n=int(input())\n",
    "a=[input().split(';') for i in range(n)]\n",
    "for l in a:\n",
    "    if l[1]>l[3]:\n",
    "        x.append(l[0])\n",
    "        x.append('3')\n",
    "        x.append(l[2])\n",
    "        x.append('0')\n",
    "    elif l[1]==l[3]:\n",
    "        x.append(l[0])\n",
    "        x.append('1')\n",
    "        x.append(l[2])\n",
    "        x.append('1')\n",
    "    else:\n",
    "        x.append(l[0])\n",
    "        x.append('0')\n",
    "        x.append(l[2])\n",
    "        x.append('3')\n",
    "for i in x:\n",
    "    if i.isdigit()!=True:\n",
    "        s[i]=x.count(i)\n",
    "for key,value in s.items():\n",
    "    for j in range(len(x)):\n",
    "        if key==x[j] and x[j+1-len(x)]=='3':\n",
    "            q+=1\n",
    "            sum+=3\n",
    "        if key==x[j] and x[j+1-len(x)]=='1':\n",
    "            w+=1\n",
    "            sum+=1\n",
    "        if key==x[j] and x[j+1-len(x)]=='0':\n",
    "            e+=1\n",
    "    s[key]=str(value)+' '+str(q)+' '+str(w)+' '+str(e)+' '+str(sum)\n",
    "    q=0\n",
    "    w=0\n",
    "    e=0\n",
    "    sum=0\n",
    "for key,value in s.items():\n",
    "    print(key+':'+value)"
   ]
  }
 ],
 "metadata": {
  "kernelspec": {
   "display_name": "Python 3",
   "language": "python",
   "name": "python3"
  },
  "language_info": {
   "codemirror_mode": {
    "name": "ipython",
    "version": 3
   },
   "file_extension": ".py",
   "mimetype": "text/x-python",
   "name": "python",
   "nbconvert_exporter": "python",
   "pygments_lexer": "ipython3",
   "version": "3.7.3"
  }
 },
 "nbformat": 4,
 "nbformat_minor": 2
}
