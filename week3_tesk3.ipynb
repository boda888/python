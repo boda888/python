{
 "cells": [
  {
   "cell_type": "code",
   "execution_count": null,
   "metadata": {},
   "outputs": [],
   "source": [
    "slov={}\n",
    "n=int(input())\n",
    "a=[]\n",
    "for i in range(n):\n",
    "    a.append(input().lower())\n",
    "m=int(input())\n",
    "b=[input().split() for i in range(m)]\n",
    "for k in b:\n",
    "    for j in k:\n",
    "        if (j.lower() in a)!=True:\n",
    "            slov[j]=''\n",
    "for key in slov.keys():\n",
    "    print(key)\n"
   ]
  }
 ],
 "metadata": {
  "kernelspec": {
   "display_name": "Python 3",
   "language": "python",
   "name": "python3"
  },
  "language_info": {
   "codemirror_mode": {
    "name": "ipython",
    "version": 3
   },
   "file_extension": ".py",
   "mimetype": "text/x-python",
   "name": "python",
   "nbconvert_exporter": "python",
   "pygments_lexer": "ipython3",
   "version": "3.7.3"
  }
 },
 "nbformat": 4,
 "nbformat_minor": 2
}
