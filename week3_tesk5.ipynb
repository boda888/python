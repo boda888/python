{
 "cells": [
  {
   "cell_type": "code",
   "execution_count": null,
   "metadata": {},
   "outputs": [],
   "source": [
    "d={'1':0,'2':0,'3':0,'4':0,'5':0,'6':0,'7':0,'8':0,'9':0,'10':0,'11':0,}\n",
    "x=[]\n",
    "inf=open('C:/Users/bodak/OneDrive/Рабочий стол/dataset_3380_5 (1).txt','r')\n",
    "s=inf.read().strip().split()\n",
    "for i in s:\n",
    "    if i.isdigit()==True:\n",
    "        x.append(i)\n",
    "for j in range(len(x)):\n",
    "    for key,value in d.items():\n",
    "        if x[j]==key:\n",
    "            d[key]=value+(int(x[j+1-len(x)])/x.count(key))\n",
    "for key,value in d.items():\n",
    "    if key!=0:\n",
    "        print(key+' '+str(value))\n",
    "    else:\n",
    "        print(key+'-')"
   ]
  }
 ],
 "metadata": {
  "kernelspec": {
   "display_name": "Python 3",
   "language": "python",
   "name": "python3"
  },
  "language_info": {
   "codemirror_mode": {
    "name": "ipython",
    "version": 3
   },
   "file_extension": ".py",
   "mimetype": "text/x-python",
   "name": "python",
   "nbconvert_exporter": "python",
   "pygments_lexer": "ipython3",
   "version": "3.7.3"
  }
 },
 "nbformat": 4,
 "nbformat_minor": 2
}
