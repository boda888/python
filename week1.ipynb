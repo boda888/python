{
 "cells": [
  {
   "cell_type": "code",
   "execution_count": null,
   "metadata": {},
   "outputs": [],
   "source": [
    "a=int(input())\n",
    "b=int(input())\n",
    "c=int(input())\n",
    "p=((a+b+c)/2)\n",
    "s=(p*(p-a)*(p-b)*(p-c))**(1/2)\n",
    "print(s)"
   ]
  },
  {
   "cell_type": "code",
   "execution_count": null,
   "metadata": {},
   "outputs": [],
   "source": [
    "a=int(input())\n",
    "if -15<a<=12 or 14<a<17 or a>=19:\n",
    "    print('True')\n",
    "else:\n",
    "    print('False')"
   ]
  },
  {
   "cell_type": "code",
   "execution_count": null,
   "metadata": {},
   "outputs": [],
   "source": [
    "a=float(input())\n",
    "b=float(input())\n",
    "o=str(input())\n",
    "if o=='+':\n",
    "    print(a+b)\n",
    "elif o=='-':\n",
    "    print(a-b)\n",
    "elif o=='/':\n",
    "    if b!=0:\n",
    "        print(a/b)\n",
    "    else:\n",
    "        print(\"Деление на 0!\")\n",
    "elif o=='*':\n",
    "    print(a*b)\n",
    "elif o=='mod':\n",
    "    if b!=0:\n",
    "        print(a%b)\n",
    "    else:\n",
    "        print(\"Деление на 0!\")\n",
    "elif o=='pow':\n",
    "    print(a**b)\n",
    "elif o=='div':\n",
    "    if b!=0:\n",
    "        print(a//b)\n",
    "    else:\n",
    "        print(\"Деление на 0!\")\n"
   ]
  },
  {
   "cell_type": "code",
   "execution_count": null,
   "metadata": {},
   "outputs": [],
   "source": [
    "a=str(input())\n",
    "if a=='прямоугольник':\n",
    "    q=int(input())\n",
    "    w=int(input())\n",
    "    print(q*w)\n",
    "elif a=='треугольник':\n",
    "    e=int(input())\n",
    "    r=int(input())\n",
    "    t=int(input())\n",
    "    p= ((e+r+t)/2)\n",
    "    s = (((p*(p-e)*(p-r)*(p-t)))**0.5)\n",
    "    print(s)\n",
    "elif a=='круг':\n",
    "    y=int(input())\n",
    "    print(3.14*(y**2))\n"
   ]
  },
  {
   "cell_type": "code",
   "execution_count": null,
   "metadata": {},
   "outputs": [],
   "source": [
    "a=int(input())\n",
    "b=int(input())\n",
    "c=int(input())\n",
    "if a>b>c:\n",
    "    print(a,'\\n',c,'\\n',b)\n",
    "elif c>b>a:\n",
    "    print(c,'\\n',a,'\\n',b)\n",
    "elif b>a>c:\n",
    "    print(b,'\\n',c,'\\n',a)\n",
    "elif a>c>b:\n",
    "    print(a,'\\n',b,'\\n',c)\n",
    "elif b>c>a:\n",
    "    print(b,'\\n',a,'\\n',c)\n",
    "elif c>a>b:\n",
    "    print(c,'\\n',b,'\\n',a)\n",
    "elif a==b==c:\n",
    "    print(a,'\\n',c,'\\n',b)\n",
    "elif a==b>c:\n",
    "    print(a,'\\n',c,'\\n',b)\n",
    "elif a==c>b:\n",
    "    print(a,'\\n',b,'\\n',c)\n",
    "elif c==b>a:\n",
    "    print(c,'\\n',a,'\\n',b)\n",
    "elif a==b<c:\n",
    "    print(c,'\\n',a,'\\n',b)\n",
    "elif a==c<b:\n",
    "    print(b,'\\n',a,'\\n',c)\n",
    "elif c==b<a:\n",
    "    print(a,'\\n',c,'\\n',b)\n"
   ]
  },
  {
   "cell_type": "code",
   "execution_count": null,
   "metadata": {},
   "outputs": [],
   "source": [
    "n=int(input())\n",
    "if 0<=n<=1000:\n",
    "    if n%10==1 and n!=11 and n!=111 and n!=211 and n!=311 and n!=411 and n!=511 and n!=611 and n!=711 and n!=811 and n!=911: \n",
    "        print(n,\"программист\")\n",
    "    elif n%10==2 and n!=12 and n!=112 and n!=212 and n!=312 and n!=412 and n!=512 and n!=612 and n!=712 and n!=812 and n!=912: \n",
    "        print(n,\"программиста\")\n",
    "    elif n%10==3 and n!=13 and n!=113 and n!=213 and n!=313 and n!=413 and n!=513 and n!=613 and n!=713 and n!=813 and n!=913: \n",
    "        print(n,\"программиста\")\n",
    "    elif n%10==4 and n!=14 and n!=114 and n!=214 and n!=314 and n!=414 and n!=514 and n!=614 and n!=714 and n!=814 and n!=914: \n",
    "        print(n,\"программиста\")\n",
    "    elif (n%10==5 or n%10==0) and n!=15 and n!=115 and n!=215 and n!=315 and n!=415 and n!=515 and n!=615 and n!=715 and n!=815 and n!=915: \n",
    "        print(n,\"программистов\")\n",
    "    elif 5<n<20:\n",
    "        print(n,\"программистов\")\n",
    "    else:\n",
    "        print(n,\"программистов\")\n",
    "    "
   ]
  },
  {
   "cell_type": "code",
   "execution_count": null,
   "metadata": {},
   "outputs": [],
   "source": [
    "n=int(input())\n",
    "q=n//100000\n",
    "w=(n//10000)%10\n",
    "e=(n//1000)%10\n",
    "r=(n//100)%10\n",
    "t=(n//10)%10\n",
    "y=n%10\n",
    "if (q+w+e)==(r+t+y):\n",
    "    print('Счастливый')\n",
    "else:\n",
    "    print('Обычный')"
   ]
  }
 ],
 "metadata": {
  "kernelspec": {
   "display_name": "Python 3",
   "language": "python",
   "name": "python3"
  },
  "language_info": {
   "codemirror_mode": {
    "name": "ipython",
    "version": 3
   },
   "file_extension": ".py",
   "mimetype": "text/x-python",
   "name": "python",
   "nbconvert_exporter": "python",
   "pygments_lexer": "ipython3",
   "version": "3.7.3"
  }
 },
 "nbformat": 4,
 "nbformat_minor": 2
}
