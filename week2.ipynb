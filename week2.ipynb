{
 "cells": [
  {
   "cell_type": "code",
   "execution_count": null,
   "metadata": {},
   "outputs": [],
   "source": [
    "s=int(input())\n",
    "d=[s]\n",
    "l=0\n",
    "while s!=0:\n",
    "    k=int(input())\n",
    "    s+=k\n",
    "    d+=[k]\n",
    "else:\n",
    "    for i in range(len(d)):\n",
    "        l+=d[i]*d[i]\n",
    "    print(l)\n",
    "\n"
   ]
  },
  {
   "cell_type": "code",
   "execution_count": null,
   "metadata": {},
   "outputs": [],
   "source": [
    "s=int(input())\n",
    "d=0\n",
    "k=1\n",
    "for i in range(s):\n",
    "    if k*k!=d:\n",
    "        print(k,end=' ')\n",
    "        d+=k\n",
    "    else:\n",
    "        print(k+1,end=' ')\n",
    "        d=k+1\n",
    "        k+=1\n",
    "\n"
   ]
  },
  {
   "cell_type": "code",
   "execution_count": null,
   "metadata": {},
   "outputs": [],
   "source": [
    "lst=[int(i) for i in input().split()]\n",
    "n=int(input())\n",
    "k=-1\n",
    "l=0\n",
    "for j in range(len(lst)):\n",
    "    if lst[j]!=n:\n",
    "        k+=1\n",
    "    else:\n",
    "        print(k+1,end =' ')\n",
    "        k+=1\n",
    "        l+=1\n",
    "if l==0:\n",
    "    print('Отсутствует')"
   ]
  },
  {
   "cell_type": "code",
   "execution_count": null,
   "metadata": {},
   "outputs": [],
   "source": [
    "s=[]\n",
    "l=0\n",
    "p=[]\n",
    "while 0<1:\n",
    "    l=[i for i in input().split()]\n",
    "    if l!=['end']:\n",
    "           s.append(l)\n",
    "    else:\n",
    "        s.append(l)\n",
    "        break\n",
    "m=s.copy()\n",
    "for i in range(len(m)):\n",
    "    for j in range(len(m[0])):\n",
    "        if m[i][j]!='end':\n",
    "            m[i][j]=int(m[i][j])\n",
    "        else:\n",
    "            break\n",
    "for n in m:\n",
    "    if n!=['end']:\n",
    "        p.append(n)   \n",
    "for i in range(len(p)):\n",
    "    for j in range(len(p[0])):\n",
    "        l=p[i][j+1-len(p[0])]+p[i-1][j]+p[i][j-1]+p[i+1-len(p)][j]\n",
    "        print(l,end=' ')\n",
    "        l=0\n",
    "    print()\n",
    "\n"
   ]
  },
  {
   "cell_type": "code",
   "execution_count": null,
   "metadata": {},
   "outputs": [],
   "source": [
    "n=int(input())\n",
    "k=1\n",
    "i=0\n",
    "q=0\n",
    "v=1\n",
    "b=1\n",
    "z=-1\n",
    "x=-1\n",
    "a=[[0 for i in range(n)]for j in range(n)]\n",
    "while k<=n**2:\n",
    "    for j in range(0,n-q):\n",
    "        if a[i][j]==0:\n",
    "            a[i][j]=k\n",
    "            k+=1\n",
    "    for i in range(0,n-q):\n",
    "        if a[i][j]==0:\n",
    "            a[i][j]=k\n",
    "            k+=1\n",
    "    for r in range(n-1-q,-1+q,-1):\n",
    "        if a[i][r]==0:\n",
    "            a[i][r]=k\n",
    "            k+=1\n",
    "    for t in range(n-1-q,-1+q,-1):\n",
    "        if a[t][r]==0:\n",
    "            a[t][r]=k\n",
    "            k+=1\n",
    "    j=v\n",
    "    i=b\n",
    "    r=z\n",
    "    t=x\n",
    "    q+=1\n",
    "    v+=1\n",
    "    b+=1\n",
    "    z-=1\n",
    "    x-=1\n",
    "for u in range(n):\n",
    "    for l in range(n):\n",
    "        print(a[u][l],end=' ')\n",
    "    print()\n",
    "\n"
   ]
  }
 ],
 "metadata": {
  "kernelspec": {
   "display_name": "Python 3",
   "language": "python",
   "name": "python3"
  },
  "language_info": {
   "codemirror_mode": {
    "name": "ipython",
    "version": 3
   },
   "file_extension": ".py",
   "mimetype": "text/x-python",
   "name": "python",
   "nbconvert_exporter": "python",
   "pygments_lexer": "ipython3",
   "version": "3.7.3"
  }
 },
 "nbformat": 4,
 "nbformat_minor": 2
}
